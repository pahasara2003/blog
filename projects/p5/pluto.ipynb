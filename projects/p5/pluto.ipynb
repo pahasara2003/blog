{
 "cells": [
  {
   "cell_type": "code",
   "execution_count": 1,
   "metadata": {},
   "outputs": [],
   "source": [
    "using Plots"
   ]
  },
  {
   "cell_type": "code",
   "execution_count": 13,
   "metadata": {},
   "outputs": [
    {
     "data": {
      "text/plain": [
       "6×1×2 Array{Float64, 3}:\n",
       "[:, :, 1] =\n",
       " 0.5128236670842085\n",
       " 0.8419748098834001\n",
       " 0.3145025298872032\n",
       " 0.8549223016020138\n",
       " 0.5966610026748642\n",
       " 0.904163434565036\n",
       "\n",
       "[:, :, 2] =\n",
       " 0.7979240979228006\n",
       " 0.6326692374035489\n",
       " 0.22972309111466138\n",
       " 0.07904759132371397\n",
       " 0.673085069474465\n",
       " 0.11818136749727826"
      ]
     },
     "metadata": {},
     "output_type": "display_data"
    }
   ],
   "source": [
    "atoms = 10rand(6,1,2)\n",
    "vel   = rand(6,1,2)\n"
   ]
  },
  {
   "cell_type": "code",
   "execution_count": 17,
   "metadata": {},
   "outputs": [
    {
     "ename": "UndefVarError",
     "evalue": "UndefVarError: `xlim` not defined",
     "output_type": "error",
     "traceback": [
      "UndefVarError: `xlim` not defined\n",
      "\n",
      "Stacktrace:\n",
      " [1] macro expansion\n",
      "   @ c:\\Users\\pahasara\\programming\\💎Web designing\\nextjs\\portfolio\\projects\\p5\\pluto.ipynb:4 [inlined]\n",
      " [2] top-level scope\n",
      "   @ C:\\Users\\pahasara\\.julia\\packages\\Plots\\rz1WP\\src\\animation.jl:251"
     ]
    }
   ],
   "source": [
    "\n",
    "@gif for i in 1:100\n",
    "    atoms = 10rand(6,1,2)\n",
    "    scatter(atoms[:,1,1],atoms[:,1,2])\n",
    "end"
   ]
  },
  {
   "cell_type": "code",
   "execution_count": null,
   "metadata": {},
   "outputs": [],
   "source": []
  }
 ],
 "metadata": {
  "kernelspec": {
   "display_name": "Julia 1.9.1",
   "language": "julia",
   "name": "julia-1.9"
  },
  "language_info": {
   "file_extension": ".jl",
   "mimetype": "application/julia",
   "name": "julia",
   "version": "1.9.1"
  }
 },
 "nbformat": 4,
 "nbformat_minor": 2
}
